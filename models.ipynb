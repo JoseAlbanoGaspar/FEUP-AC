{
 "cells": [
  {
   "cell_type": "code",
   "execution_count": 1,
   "metadata": {},
   "outputs": [],
   "source": [
    "import pandas as pd\n",
    "from sklearn.tree import DecisionTreeClassifier\n",
    "from sklearn.ensemble import RandomForestClassifier\n",
    "from sklearn.svm import SVC\n",
    "from sklearn.neighbors import KNeighborsClassifier\n",
    "from sklearn.model_selection import train_test_split\n",
    "from sklearn.metrics import accuracy_score, recall_score, precision_score, roc_curve, auc\n",
    "from sklearn.model_selection import GridSearchCV\n",
    "from sklearn.naive_bayes import MultinomialNB\n",
    "\n",
    "\n",
    "import matplotlib.pyplot as plt\n",
    "\n",
    "def train_test_split_by_year(data, test_year):\n",
    "    train_data = data[(data['year'] < test_year)]\n",
    "    test_data = data[data['year'] == test_year]\n",
    "    return train_data, test_data\n",
    "\n",
    "def evaluate_model(model, train_data_original, test_data_original):\n",
    "    \n",
    "    train_data = train_data_original.copy()\n",
    "    test_data = test_data_original.copy()\n",
    "\n",
    "    \n",
    "    tmIDs = test_data['tmID']\n",
    "    confIDs = test_data['confID']\n",
    "    train_data.drop(['tmID', 'confID', 'year'], axis=1, inplace=True)\n",
    "    test_data.drop(['tmID', 'confID', 'year'], axis=1, inplace=True)\n",
    "    \n",
    "    X_train, y_train = train_data.drop(columns=['playoff']), train_data['playoff']\n",
    "    X_test, y_test = test_data.drop(columns=['playoff']), test_data['playoff']\n",
    "    \n",
    "    model.fit(X_train, y_train)\n",
    "    y_pred = model.predict(X_test)\n",
    "    \n",
    "    probs = model.predict_proba(X_test)[:, 1]\n",
    "        \n",
    "    results = pd.DataFrame({\n",
    "        'tmID' : tmIDs,\n",
    "        'confID': confIDs,\n",
    "        'playoff' : y_pred,\n",
    "        'probs' : probs\n",
    "    })\n",
    "    \n",
    "    result_yes_east = results[results.confID == 'EA'].nlargest(4, 'probs')\n",
    "    result_yes_west = results[results.confID == 'WE'].nlargest(4, 'probs')\n",
    "\n",
    "    \n",
    "    \n",
    "    results['playoff'] = results.apply(lambda row: 'Y' if row['tmID'] in result_yes_east['tmID'].values or row['tmID'] in result_yes_west['tmID'].values  else 'N', axis=1)\n",
    "    \n",
    "    return results\n",
    "\n"
   ]
  },
  {
   "cell_type": "code",
   "execution_count": 2,
   "metadata": {},
   "outputs": [],
   "source": [
    "def train_model(data, test_year, model):\n",
    "    train_data, test_data = train_test_split_by_year(data, test_year)\n",
    "    result = evaluate_model(model, train_data, test_data)\n",
    "    \n",
    "    return result\n",
    "    "
   ]
  },
  {
   "cell_type": "code",
   "execution_count": 3,
   "metadata": {},
   "outputs": [],
   "source": [
    "data = pd.read_csv('teams_final_zeros.csv')"
   ]
  },
  {
   "cell_type": "code",
   "execution_count": 4,
   "metadata": {},
   "outputs": [],
   "source": [
    "# Define the parameters\n",
    "params = {\n",
    "    'alpha' : 0.1,\n",
    "    'class_prior' : [0.3, 0.7],\n",
    "    'fit_prior' : True\n",
    "}\n",
    "\n",
    "season11_results = train_model(data, 11, MultinomialNB(**params))\n"
   ]
  },
  {
   "cell_type": "code",
   "execution_count": 5,
   "metadata": {},
   "outputs": [],
   "source": [
    "season11_results.drop(['confID', 'probs'], axis=1, inplace = True)\n",
    "season11_results.to_csv('season11_results.csv', index = False)"
   ]
  }
 ],
 "metadata": {
  "kernelspec": {
   "display_name": "Python 3",
   "language": "python",
   "name": "python3"
  },
  "language_info": {
   "codemirror_mode": {
    "name": "ipython",
    "version": 3
   },
   "file_extension": ".py",
   "mimetype": "text/x-python",
   "name": "python",
   "nbconvert_exporter": "python",
   "pygments_lexer": "ipython3",
   "version": "3.8.3"
  }
 },
 "nbformat": 4,
 "nbformat_minor": 4
}
